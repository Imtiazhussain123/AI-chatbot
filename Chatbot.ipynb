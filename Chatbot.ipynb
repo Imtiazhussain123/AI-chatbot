{
  "nbformat": 4,
  "nbformat_minor": 0,
  "metadata": {
    "colab": {
      "name": "Chatbot.ipynb",
      "provenance": [],
      "include_colab_link": true
    },
    "kernelspec": {
      "name": "python3",
      "display_name": "Python 3"
    }
  },
  "cells": [
    {
      "cell_type": "markdown",
      "metadata": {
        "id": "view-in-github",
        "colab_type": "text"
      },
      "source": [
        "<a href=\"https://colab.research.google.com/github/Imtiazhussain123/AI-chatbot/blob/master/Chatbot.ipynb\" target=\"_parent\"><img src=\"https://colab.research.google.com/assets/colab-badge.svg\" alt=\"Open In Colab\"/></a>"
      ]
    },
    {
      "cell_type": "code",
      "metadata": {
        "id": "fGLtY05N56Cq",
        "colab_type": "code",
        "colab": {}
      },
      "source": [
        ""
      ],
      "execution_count": 0,
      "outputs": []
    },
    {
      "cell_type": "markdown",
      "metadata": {
        "id": "OyQWRqBt6Hqc",
        "colab_type": "text"
      },
      "source": [
        "Description : This is a 'self learning' Chat Bot program  "
      ]
    },
    {
      "cell_type": "code",
      "metadata": {
        "id": "Z_BySQea6Yno",
        "colab_type": "code",
        "outputId": "40e977f0-46df-4215-996e-a50be22072c3",
        "colab": {
          "base_uri": "https://localhost:8080/",
          "height": 50
        }
      },
      "source": [
        "#Installing the packege NLTK\n",
        "pip install nltk"
      ],
      "execution_count": 0,
      "outputs": [
        {
          "output_type": "stream",
          "text": [
            "Requirement already satisfied: nltk in /usr/local/lib/python3.6/dist-packages (3.2.5)\n",
            "Requirement already satisfied: six in /usr/local/lib/python3.6/dist-packages (from nltk) (1.12.0)\n"
          ],
          "name": "stdout"
        }
      ]
    },
    {
      "cell_type": "code",
      "metadata": {
        "id": "V1cAx0Kv6zX1",
        "colab_type": "code",
        "outputId": "7473bd3e-9c06-490c-d06a-43fdf8ea8b89",
        "colab": {
          "base_uri": "https://localhost:8080/",
          "height": 857
        }
      },
      "source": [
        "#Install the package newspaper3k\n",
        "pip install newspaper3k"
      ],
      "execution_count": 0,
      "outputs": [
        {
          "output_type": "stream",
          "text": [
            "Collecting newspaper3k\n",
            "\u001b[?25l  Downloading https://files.pythonhosted.org/packages/d7/b9/51afecb35bb61b188a4b44868001de348a0e8134b4dfa00ffc191567c4b9/newspaper3k-0.2.8-py3-none-any.whl (211kB)\n",
            "\r\u001b[K     |█▌                              | 10kB 14.5MB/s eta 0:00:01\r\u001b[K     |███                             | 20kB 7.2MB/s eta 0:00:01\r\u001b[K     |████▋                           | 30kB 9.9MB/s eta 0:00:01\r\u001b[K     |██████▏                         | 40kB 6.0MB/s eta 0:00:01\r\u001b[K     |███████▊                        | 51kB 7.3MB/s eta 0:00:01\r\u001b[K     |█████████▎                      | 61kB 8.5MB/s eta 0:00:01\r\u001b[K     |██████████▉                     | 71kB 9.7MB/s eta 0:00:01\r\u001b[K     |████████████▍                   | 81kB 10.7MB/s eta 0:00:01\r\u001b[K     |██████████████                  | 92kB 11.9MB/s eta 0:00:01\r\u001b[K     |███████████████▌                | 102kB 9.4MB/s eta 0:00:01\r\u001b[K     |█████████████████               | 112kB 9.4MB/s eta 0:00:01\r\u001b[K     |██████████████████▋             | 122kB 9.4MB/s eta 0:00:01\r\u001b[K     |████████████████████▏           | 133kB 9.4MB/s eta 0:00:01\r\u001b[K     |█████████████████████▊          | 143kB 9.4MB/s eta 0:00:01\r\u001b[K     |███████████████████████▎        | 153kB 9.4MB/s eta 0:00:01\r\u001b[K     |████████████████████████▉       | 163kB 9.4MB/s eta 0:00:01\r\u001b[K     |██████████████████████████▍     | 174kB 9.4MB/s eta 0:00:01\r\u001b[K     |████████████████████████████    | 184kB 9.4MB/s eta 0:00:01\r\u001b[K     |█████████████████████████████▌  | 194kB 9.4MB/s eta 0:00:01\r\u001b[K     |███████████████████████████████ | 204kB 9.4MB/s eta 0:00:01\r\u001b[K     |████████████████████████████████| 215kB 9.4MB/s \n",
            "\u001b[?25hRequirement already satisfied: requests>=2.10.0 in /usr/local/lib/python3.6/dist-packages (from newspaper3k) (2.21.0)\n",
            "Collecting tinysegmenter==0.3\n",
            "  Downloading https://files.pythonhosted.org/packages/17/82/86982e4b6d16e4febc79c2a1d68ee3b707e8a020c5d2bc4af8052d0f136a/tinysegmenter-0.3.tar.gz\n",
            "Collecting tldextract>=2.0.1\n",
            "\u001b[?25l  Downloading https://files.pythonhosted.org/packages/fd/0e/9ab599d6e78f0340bb1d1e28ddeacb38c8bb7f91a1b0eae9a24e9603782f/tldextract-2.2.2-py2.py3-none-any.whl (48kB)\n",
            "\u001b[K     |████████████████████████████████| 51kB 5.4MB/s \n",
            "\u001b[?25hRequirement already satisfied: lxml>=3.6.0 in /usr/local/lib/python3.6/dist-packages (from newspaper3k) (4.2.6)\n",
            "Requirement already satisfied: python-dateutil>=2.5.3 in /usr/local/lib/python3.6/dist-packages (from newspaper3k) (2.6.1)\n",
            "Collecting feedfinder2>=0.0.4\n",
            "  Downloading https://files.pythonhosted.org/packages/35/82/1251fefec3bb4b03fd966c7e7f7a41c9fc2bb00d823a34c13f847fd61406/feedfinder2-0.0.4.tar.gz\n",
            "Requirement already satisfied: Pillow>=3.3.0 in /usr/local/lib/python3.6/dist-packages (from newspaper3k) (4.3.0)\n",
            "Collecting cssselect>=0.9.2\n",
            "  Downloading https://files.pythonhosted.org/packages/3b/d4/3b5c17f00cce85b9a1e6f91096e1cc8e8ede2e1be8e96b87ce1ed09e92c5/cssselect-1.1.0-py2.py3-none-any.whl\n",
            "Requirement already satisfied: PyYAML>=3.11 in /usr/local/lib/python3.6/dist-packages (from newspaper3k) (3.13)\n",
            "Requirement already satisfied: beautifulsoup4>=4.4.1 in /usr/local/lib/python3.6/dist-packages (from newspaper3k) (4.6.3)\n",
            "Requirement already satisfied: nltk>=3.2.1 in /usr/local/lib/python3.6/dist-packages (from newspaper3k) (3.2.5)\n",
            "Collecting feedparser>=5.2.1\n",
            "\u001b[?25l  Downloading https://files.pythonhosted.org/packages/91/d8/7d37fec71ff7c9dbcdd80d2b48bcdd86d6af502156fc93846fb0102cb2c4/feedparser-5.2.1.tar.bz2 (192kB)\n",
            "\u001b[K     |████████████████████████████████| 194kB 43.6MB/s \n",
            "\u001b[?25hCollecting jieba3k>=0.35.1\n",
            "\u001b[?25l  Downloading https://files.pythonhosted.org/packages/a9/cb/2c8332bcdc14d33b0bedd18ae0a4981a069c3513e445120da3c3f23a8aaa/jieba3k-0.35.1.zip (7.4MB)\n",
            "\u001b[K     |████████████████████████████████| 7.4MB 22.1MB/s \n",
            "\u001b[?25hRequirement already satisfied: chardet<3.1.0,>=3.0.2 in /usr/local/lib/python3.6/dist-packages (from requests>=2.10.0->newspaper3k) (3.0.4)\n",
            "Requirement already satisfied: urllib3<1.25,>=1.21.1 in /usr/local/lib/python3.6/dist-packages (from requests>=2.10.0->newspaper3k) (1.24.3)\n",
            "Requirement already satisfied: certifi>=2017.4.17 in /usr/local/lib/python3.6/dist-packages (from requests>=2.10.0->newspaper3k) (2019.9.11)\n",
            "Requirement already satisfied: idna<2.9,>=2.5 in /usr/local/lib/python3.6/dist-packages (from requests>=2.10.0->newspaper3k) (2.8)\n",
            "Collecting requests-file>=1.4\n",
            "  Downloading https://files.pythonhosted.org/packages/23/9c/6e63c23c39e53d3df41c77a3d05a49a42c4e1383a6d2a5e3233161b89dbf/requests_file-1.4.3-py2.py3-none-any.whl\n",
            "Requirement already satisfied: setuptools in /usr/local/lib/python3.6/dist-packages (from tldextract>=2.0.1->newspaper3k) (41.6.0)\n",
            "Requirement already satisfied: six>=1.5 in /usr/local/lib/python3.6/dist-packages (from python-dateutil>=2.5.3->newspaper3k) (1.12.0)\n",
            "Requirement already satisfied: olefile in /usr/local/lib/python3.6/dist-packages (from Pillow>=3.3.0->newspaper3k) (0.46)\n",
            "Building wheels for collected packages: tinysegmenter, feedfinder2, feedparser, jieba3k\n",
            "  Building wheel for tinysegmenter (setup.py) ... \u001b[?25l\u001b[?25hdone\n",
            "  Created wheel for tinysegmenter: filename=tinysegmenter-0.3-cp36-none-any.whl size=13538 sha256=25eb11d6e7cc6b55e195e4d55fc3f87ea77228b9476c771d5e06a110a2673aac\n",
            "  Stored in directory: /root/.cache/pip/wheels/81/2b/43/a02ede72324dd40cdd7ca53aad718c7710628e91b8b0dc0f02\n",
            "  Building wheel for feedfinder2 (setup.py) ... \u001b[?25l\u001b[?25hdone\n",
            "  Created wheel for feedfinder2: filename=feedfinder2-0.0.4-cp36-none-any.whl size=3356 sha256=dc822649c79d7925ff738af67a29f66f3e5cf796710fe904b20702dc2be88830\n",
            "  Stored in directory: /root/.cache/pip/wheels/de/03/ca/778e3a7a627e3d98836cc890e7cb40c7575424cfd3340f40ed\n",
            "  Building wheel for feedparser (setup.py) ... \u001b[?25l\u001b[?25hdone\n",
            "  Created wheel for feedparser: filename=feedparser-5.2.1-cp36-none-any.whl size=44940 sha256=8f3968dbf9f89edfe587aca4590a82e5b812ef056f4e5c0c2b2a235645af1e90\n",
            "  Stored in directory: /root/.cache/pip/wheels/8c/69/b7/f52763c41c5471df57703a0ef718a32a5e81ee35dcf6d4f97f\n",
            "  Building wheel for jieba3k (setup.py) ... \u001b[?25l\u001b[?25hdone\n",
            "  Created wheel for jieba3k: filename=jieba3k-0.35.1-cp36-none-any.whl size=7398407 sha256=06a8aa261a7d8a90f42994abe218a1c7abf6f99201a88024a40d6563ba41b61d\n",
            "  Stored in directory: /root/.cache/pip/wheels/83/15/9c/a3f1f67e7f7181170ad37d32e503c35da20627c013f438ed34\n",
            "Successfully built tinysegmenter feedfinder2 feedparser jieba3k\n",
            "Installing collected packages: tinysegmenter, requests-file, tldextract, feedfinder2, cssselect, feedparser, jieba3k, newspaper3k\n",
            "Successfully installed cssselect-1.1.0 feedfinder2-0.0.4 feedparser-5.2.1 jieba3k-0.35.1 newspaper3k-0.2.8 requests-file-1.4.3 tinysegmenter-0.3 tldextract-2.2.2\n"
          ],
          "name": "stdout"
        }
      ]
    },
    {
      "cell_type": "code",
      "metadata": {
        "id": "7dnOeDCi7esf",
        "colab_type": "code",
        "colab": {}
      },
      "source": [
        "#Import Libraries\n",
        "from newspaper import Article\n",
        "import random\n",
        "import string\n",
        "from sklearn.feature_extraction.text import TfidfVectorizer\n",
        "from sklearn.metrics.pairwise import cosine_similarity\n",
        "import nltk\n",
        "import numpy as np\n",
        "import warnings"
      ],
      "execution_count": 0,
      "outputs": []
    },
    {
      "cell_type": "code",
      "metadata": {
        "id": "lbdLwjAy8hyr",
        "colab_type": "code",
        "colab": {}
      },
      "source": [
        "# Ignore any warning messages\n",
        "warnings.filterwarnings('ignore')"
      ],
      "execution_count": 0,
      "outputs": []
    },
    {
      "cell_type": "code",
      "metadata": {
        "id": "x0ZzgizM9X1W",
        "colab_type": "code",
        "outputId": "1c6a7805-1c58-4a38-effb-dedbad80fa66",
        "colab": {
          "base_uri": "https://localhost:8080/",
          "height": 34
        }
      },
      "source": [
        "#downloading nltk packages\n",
        "nltk.download('punkt', quiet=True)\n",
        "nltk.download('wordnet', quiet=True)"
      ],
      "execution_count": 0,
      "outputs": [
        {
          "output_type": "execute_result",
          "data": {
            "text/plain": [
              "True"
            ]
          },
          "metadata": {
            "tags": []
          },
          "execution_count": 93
        }
      ]
    },
    {
      "cell_type": "code",
      "metadata": {
        "id": "GWYAu1UV-JlH",
        "colab_type": "code",
        "colab": {}
      },
      "source": [
        "#get the article URL\n",
        "article= Article('https://www.mayoclinic.org/diseases-conditions/chronic-kidney-disease/symptoms-causes/syc-20354521')\n",
        "article.download()\n",
        "article.parse()\n",
        "article.nlp()\n",
        "corpus = article.text\n",
        "\n",
        "#print the article corpus/text \n",
        "#print(corpus)"
      ],
      "execution_count": 0,
      "outputs": []
    },
    {
      "cell_type": "code",
      "metadata": {
        "id": "GwHCo9b6OsVu",
        "colab_type": "code",
        "colab": {}
      },
      "source": [
        "#Tokenization\n",
        "text = corpus\n",
        "sent_tokens = nltk.sent_tokenize(text) #Convert the text in to list of sentences\n",
        "\n",
        "#Print the list of sentences \n",
        "#print(sent_tokens)"
      ],
      "execution_count": 0,
      "outputs": []
    },
    {
      "cell_type": "code",
      "metadata": {
        "id": "ZrwXV5B-PZ06",
        "colab_type": "code",
        "colab": {}
      },
      "source": [
        "#Create a dictionary (Key: Value) pair to remove punctuations\n",
        "\n",
        "remove_punct_dict = dict((ord(punct),None) for punct in string.punctuation)\n",
        "\n",
        "#print string of punctuations\n",
        "#print(string.punctuation)\n",
        "\n",
        "#pirnt the remove punctions in sentences\n",
        "#print(remove_punct_dict)"
      ],
      "execution_count": 0,
      "outputs": []
    },
    {
      "cell_type": "code",
      "metadata": {
        "id": "yodeHV_TJDs0",
        "colab_type": "code",
        "colab": {}
      },
      "source": [
        "#Create a function to return a list of lemmatized lower case words after removing pucntuations \n",
        "def LemNormalize(text):\n",
        "  return nltk.word_tokenize(text.lower().translate(remove_punct_dict))\n",
        "\n",
        "#why we create this function \n",
        "#print(LemNormalize(text))"
      ],
      "execution_count": 0,
      "outputs": []
    },
    {
      "cell_type": "code",
      "metadata": {
        "id": "5Q3jFBNfL4Bz",
        "colab_type": "code",
        "colab": {}
      },
      "source": [
        "#Keyword Matching\n",
        "\n",
        "#Greeting Input\n",
        "GREETING_INPUTS = [\"hi\", \"hola\", \"hello\", \"hey\", \"heye there\", \"wassup\", \"greetings\"]\n",
        "\n",
        "#Greeting Responses\n",
        "GREETING_RESPONSE = [\"howdy\", \"Hello\", \"hey\", \"hi\", \"wat's good\", \"hey there\"]\n",
        "\n",
        "#Creatinga function to return a random greeting to a user response\n",
        "def greeting(sentense):\n",
        "  #if the user input is a greeting then return a randomly chosen a greeting response\n",
        "  for word in sentense.split():\n",
        "    if word.lower() in GREETING_INPUTS:\n",
        "      return random.choice(GREETING_RESPONSE)\n"
      ],
      "execution_count": 0,
      "outputs": []
    },
    {
      "cell_type": "code",
      "metadata": {
        "id": "hdaeB_pGMvzt",
        "colab_type": "code",
        "colab": {}
      },
      "source": [
        "def response(user_response):\n",
        "  #Creating a variable to which take a reponse from user \n",
        "\n",
        "  user_response = user_response.lower()\n",
        "\n",
        "  #set the chat bot response to an empty string\n",
        "  robo_response = ''\n",
        "\n",
        "  #append the user response to a sentense list \n",
        "  sent_tokens.append(user_response)\n",
        "\n",
        "  ###Print the sent_tokens\n",
        "  #print(sent_tokens)\n",
        "\n",
        "  #create a tfidVectorize object\n",
        "  TfidfVec = TfidfVectorizer(tokenizer= LemNormalize, stop_words='english')\n",
        "\n",
        "  #convert the text to a matrix of TF-IDF features\n",
        "  tfidf = TfidfVec.fit_transform(sent_tokens)\n",
        "\n",
        "  ### print the tfidf \n",
        "  #print(tfidf)\n",
        "\n",
        "  # get he meause of similarity of text/sentense or similarity (score)\n",
        "  vals = cosine_similarity(tfidf[-1], tfidf)\n",
        "\n",
        "  #print the similarity score \n",
        "  #print(vals)\n",
        "\n",
        "  #Get the index of most similar text/sentense to the user response \n",
        "  idx = vals.argsort()[0][-2]\n",
        "  #print(idx)\n",
        "\n",
        "  #reduce the dimensionality of vlas\n",
        "  flat = vals.flatten()\n",
        "  #print(flat.sort())\n",
        "  #sort the list in asscending order \n",
        "\n",
        "  #get the most similar score to the user resposne\n",
        "  score = flat[-2]\n",
        "  #print(score)\n",
        "\n",
        "  #if the variable response is 0 then there is no similar test in the user response\n",
        "  if (score == 0):\n",
        "    robo_response = robo_response + \"i apologize, i dont't understand!\"\n",
        "  else:\n",
        "    robo_response = robo_response + sent_tokens[idx]\n",
        "  sent_tokens.remove(user_response)\n",
        "  return robo_response\n",
        "\n",
        "\n"
      ],
      "execution_count": 0,
      "outputs": []
    },
    {
      "cell_type": "code",
      "metadata": {
        "id": "nk-nOGQtYq0-",
        "colab_type": "code",
        "outputId": "21586184-0001-41e4-94e6-164fec620a65",
        "colab": {
          "base_uri": "https://localhost:8080/",
          "height": 235
        }
      },
      "source": [
        "flag = True\n",
        "print(\"DOCBot: I am Doctor Bot or DOCBot for short.I will answer your queries about Chronic Kidney Disease. If you want to exit, type Bye \")\n",
        "while (flag == True):\n",
        "  user_response = input()\n",
        "  user_response = user_response.lower()\n",
        "  if (user_response != \"bye\"):\n",
        "    if (user_response == \"thanks\" or user_response == \"thank you\"):\n",
        "      flag = False\n",
        "      print(\"DOCBot: You are welcome\")\n",
        "    else:\n",
        "      if(greeting(user_response) != None):\n",
        "        print(\"DOCBot: \"+greeting(user_response))\n",
        "      else:\n",
        "        print(\"DOCBot: \"+ response(user_response))\n",
        "  else:\n",
        "    flag = False\n",
        "    print(\"DOCBot: Chat with you later.\")"
      ],
      "execution_count": 0,
      "outputs": [
        {
          "output_type": "stream",
          "text": [
            "DOCBot: I am Doctor Bot or DOCBot for short.I will answer your queries about Chronic Kidney Disease. If you want to exit, type Bye \n",
            "hi\n",
            "DOCBot: Hello\n",
            "hello\n",
            "DOCBot: hi\n",
            "hey\n",
            "DOCBot: wat's good\n",
            "what is chronic kidney disease\n",
            "DOCBot: Overview\n",
            "\n",
            "Chronic kidney disease, also called chronic kidney failure, describes the gradual loss of kidney function.\n",
            "thanks\n",
            "DOCBot: You are welcome\n"
          ],
          "name": "stdout"
        }
      ]
    }
  ]
}